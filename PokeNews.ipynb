{
 "cells": [
  {
   "cell_type": "code",
   "execution_count": 7,
   "metadata": {},
   "outputs": [],
   "source": [
    "import requests, json\n",
    "\n",
    "march11 = json.loads(requests.get(\"https://newsapi.org/v2/everything?q=tesla&from=2021-03-11&to=2021-03-11&sortBy=publishedAt&apiKey=9d21b1d1a94d44898c77e2c824c11346\").text)\n",
    "march12 = json.loads(requests.get(\"https://newsapi.org/v2/everything?q=tesla&from=2021-03-12&to=2021-03-12&sortBy=publishedAt&apiKey=9d21b1d1a94d44898c77e2c824c11346\").text)\n",
    "march = []\n",
    "march.append(march11)\n",
    "march.append(march12)"
   ]
  },
  {
   "cell_type": "code",
   "execution_count": 8,
   "metadata": {},
   "outputs": [],
   "source": [
    "with open('News.json', 'w') as outfile:\n",
    "    json.dump(march, outfile)"
   ]
  }
 ],
 "metadata": {
  "kernelspec": {
   "display_name": "Python 3",
   "language": "python",
   "name": "python3"
  },
  "language_info": {
   "codemirror_mode": {
    "name": "ipython",
    "version": 3
   },
   "file_extension": ".py",
   "mimetype": "text/x-python",
   "name": "python",
   "nbconvert_exporter": "python",
   "pygments_lexer": "ipython3",
   "version": "3.7.6"
  }
 },
 "nbformat": 4,
 "nbformat_minor": 4
}
